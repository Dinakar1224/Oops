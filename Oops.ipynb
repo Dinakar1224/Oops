{
  "nbformat": 4,
  "nbformat_minor": 0,
  "metadata": {
    "colab": {
      "provenance": []
    },
    "kernelspec": {
      "name": "python3",
      "display_name": "Python 3"
    },
    "language_info": {
      "name": "python"
    }
  },
  "cells": [
    {
      "cell_type": "markdown",
      "source": [
        "1)What are the five key concepts of Object-Oriented Programming (OOP)?\n",
        "The five key concepts of Object-Oriented Programming (OOP) are:\n",
        "\n",
        "Ans.1.Class: A blueprint or template for creating objects. It defines properties (attributes) and behaviors (methods) that the objects created from the class can have.\n",
        "\n",
        "1.Object: An instance of a class. Objects are the actual data structures created using the class blueprint. They represent specific real-world entities and have the properties and behaviors defined by their class.\n",
        "\n",
        "\n",
        "2.Encapsulation: The concept of bundling data (attributes) and methods (functions) that operate on the data into a single unit or class. Encapsulation also involves restricting access to certain details of an object’s internal structure and exposing only what’s necessary (through public methods).\n",
        "\n",
        "3.Inheritance: A mechanism where a new class (subclass) derives properties and behaviors from an existing class (superclass). This allows for reusability of code and the creation of a hierarchy of classes.\n",
        "\n",
        "4.Polymorphism: The ability for different classes to be treated as instances of the same class through a shared interface. It allows objects to be processed differently depending on their class, even if they share the same method name. Polymorphism is often seen in method overriding or overloading.\n"
      ],
      "metadata": {
        "id": "BooZreIakeEW"
      }
    },
    {
      "cell_type": "markdown",
      "source": [
        "2. Write a Python class for a Car with attributes for make, model, and year. Include a method to display The car’s information."
      ],
      "metadata": {
        "id": "j-oWsnLbkhv_"
      }
    },
    {
      "cell_type": "code",
      "source": [
        "class Car:\n",
        "    def __init__(self, make, model, year):\n",
        "        self.make = make\n",
        "        self.model = model\n",
        "        self.year = year\n",
        "\n",
        "    def display_info(self):\n",
        "        print(f\"Car Information: {self.year} {self.make} {self.model}\")\n",
        "\n",
        "# Example usage:\n",
        "my_car = Car(\"Toyota\", \"Camry\", 2020)\n",
        "my_car.display_info()\n"
      ],
      "metadata": {
        "colab": {
          "base_uri": "https://localhost:8080/"
        },
        "id": "eKOacR8Qkg7T",
        "outputId": "e281f45a-85a7-4ddd-9039-f4a24d319e2c"
      },
      "execution_count": null,
      "outputs": [
        {
          "output_type": "stream",
          "name": "stdout",
          "text": [
            "Car Information: 2020 Toyota Camry\n"
          ]
        }
      ]
    },
    {
      "cell_type": "markdown",
      "source": [
        "3. Explain the difference between instance methods and class methods. Provide an example of each"
      ],
      "metadata": {
        "id": "4zXHCUujmarO"
      }
    },
    {
      "cell_type": "markdown",
      "source": [
        "Ans.In Python, *instance methods* and *class methods* are both methods defined in a class but have different behaviors and purposes:\n",
        "\n",
        " 1. Instance Methods:\n",
        "-Definition: These are methods that operate on an instance of a class. They can access and modify object-specific data (i.e., attributes).\n",
        "Access: Instance methods require a class instance and are called on individual objects.\n",
        "First Parameter: The first parameter of an instance method is self, which represents the instance on which the method is called.\n"
      ],
      "metadata": {
        "id": "r0peyVNFlD2w"
      }
    },
    {
      "cell_type": "code",
      "source": [
        "#Example of an Instance Method:\n",
        "class car:\n",
        "    def _init_(self, make, model, year):\n",
        "        Self.make = make\n",
        "        Self.model = model\n",
        "        Self.year = year\n",
        "\n",
        "    # Instance method\n",
        "    def display_info(self):\n",
        "        Print(f\"Car Information: {self.year} {self.make} {self.model}\")\n",
        "\n",
        "My_car = Car(\"Toyota\", \"Camry\", 2021)\n",
        "My_car.display_info()"
      ],
      "metadata": {
        "colab": {
          "base_uri": "https://localhost:8080/"
        },
        "id": "17lPXbFzkur5",
        "outputId": "d97854b4-c783-49f9-980b-8387e1ad77c2"
      },
      "execution_count": null,
      "outputs": [
        {
          "output_type": "stream",
          "name": "stdout",
          "text": [
            "Car Information: 2021 Toyota Camry\n"
          ]
        }
      ]
    },
    {
      "cell_type": "markdown",
      "source": [
        "\n",
        "2.Class Methods:\n",
        "Definition: These methods operate on the class itself, not on instances of the class. They can modify class-level data or perform operations related to the class, rather than an individual instance.\n",
        "-Access: Class methods can be called on the class itself, rather than on an instance.\n",
        "First Parameter: The first parameter of a class method is cls, which refers to the class itself (not an instance).\n",
        "Decorator: Class methods are defined using the @classmethod decorator.\n",
        "\n"
      ],
      "metadata": {
        "id": "gWLkzJ0zlnLC"
      }
    },
    {
      "cell_type": "code",
      "source": [
        "class Car:\n",
        "    # Class attribute\n",
        "    number_of_wheels = 4\n",
        "\n",
        "    def __init__(self, make, model, year):\n",
        "        self.make = make\n",
        "        self.model = model\n",
        "        self.year = year\n",
        "\n",
        "    def display_info(self):\n",
        "        print(f\"Car Information: {self.year} {self.make} {self.model}\")\n",
        "\n",
        "    @classmethod\n",
        "    def get_number_of_wheels(cls):\n",
        "        return cls.number_of_wheels\n",
        "\n",
        "# Calling a class method\n",
        "print(Car.get_number_of_wheels())\n"
      ],
      "metadata": {
        "colab": {
          "base_uri": "https://localhost:8080/"
        },
        "id": "HgcCDV1ilQHp",
        "outputId": "ed72dfd5-4a60-48de-e5fe-80c04c1c5dfd"
      },
      "execution_count": null,
      "outputs": [
        {
          "output_type": "stream",
          "name": "stdout",
          "text": [
            "4\n"
          ]
        }
      ]
    },
    {
      "cell_type": "markdown",
      "source": [
        "  4.How does Python implement method overloading? Give an example.\n"
      ],
      "metadata": {
        "id": "If31hTC3mi4G"
      }
    },
    {
      "cell_type": "markdown",
      "source": [
        "Python does not support traditional method overloading (i.e., defining multiple methods with the same name but different parameters) like some other languages (e.g., Java or C++). Instead, Python allows only one method with a given name in a class, and the latest method definition overrides the previous one.\n",
        "\n",
        "However, Python can simulate method overloading using:\n",
        "- *Default arguments*: By assigning default values to parameters, you can handle multiple use cases within a single method.\n",
        "- *Variable-length arguments* (*args and **kwargs): These allow for a flexible number of arguments"
      ],
      "metadata": {
        "id": "oJ5QI0PlmynC"
      }
    },
    {
      "cell_type": "code",
      "source": [
        "class MathOperations:\n",
        "    def add(self, a, b, c=0):\n",
        "        return a + b + c\n",
        "\n",
        "# Creating an instance of MathOperations\n",
        "math_ops = MathOperations()\n",
        "\n",
        "\n",
        "print(math_ops.add(5, 3))\n",
        "\n",
        "\n",
        "print(math_ops.add(5, 3, 2))\n"
      ],
      "metadata": {
        "id": "BwRR-GU-mKDj",
        "colab": {
          "base_uri": "https://localhost:8080/"
        },
        "outputId": "9e7da21f-ba6f-4942-c10f-b0b13ffd23d1"
      },
      "execution_count": null,
      "outputs": [
        {
          "output_type": "stream",
          "name": "stdout",
          "text": [
            "8\n",
            "10\n"
          ]
        }
      ]
    },
    {
      "cell_type": "markdown",
      "source": [
        "5.What are the three types of access modifiers in Python? How are they denoted?"
      ],
      "metadata": {
        "id": "gN1ZhE_KcXHm"
      }
    },
    {
      "cell_type": "markdown",
      "source": [
        "ANS:In Python, there are three types of access modifiers that control the visibility and accessibility of class attributes and methods.\n",
        "\n",
        "- Public: Attributes and methods with no special prefix.\n",
        "Description: Public members are accessible from outside the class. They are intended to be freely accessible and modifiable.\n"
      ],
      "metadata": {
        "id": "QOZGwhPjcoV2"
      }
    },
    {
      "cell_type": "code",
      "source": [
        "class Car:\n",
        "    def __init__(self, make, model):\n",
        "        self.make = make  # Public attribute\n",
        "        self.model = model  # Public attribute\n",
        "\n",
        "    def display_info(self):  # Public method\n",
        "        print(f\"{self.make} {self.model}\")\n",
        "\n",
        "my_car = Car(\"Toyota\", \"Camry\")\n",
        "print(my_car.make)  # Accessible from outside the class\n",
        "my_car.display_info()  # Public method is accessible\n"
      ],
      "metadata": {
        "colab": {
          "base_uri": "https://localhost:8080/"
        },
        "id": "qESKKDD6cEQ7",
        "outputId": "06c651a8-58e9-4978-d1f1-0b4f831dce4a"
      },
      "execution_count": null,
      "outputs": [
        {
          "output_type": "stream",
          "name": "stdout",
          "text": [
            "Toyota\n",
            "Toyota Camry\n"
          ]
        }
      ]
    },
    {
      "cell_type": "markdown",
      "source": [
        "- Protected: Attributes and methods prefixed with a single underscore (_).\n",
        "Description: Protected members are intended to be used within the class and its subclasses. While not strictly private, the single underscore is a convention indicating that these members are meant to be treated as protected and not accessed from outside the class hierarchy.\n",
        "\n"
      ],
      "metadata": {
        "id": "59uMDL6udFa3"
      }
    },
    {
      "cell_type": "code",
      "source": [
        "class Car:\n",
        "    def __init__(self, make, model):\n",
        "        self.make = make  # Public attribute\n",
        "        self.model = model  # Public attribute\n",
        "\n",
        "    def display_info(self):  # Public method\n",
        "        print(f\"{self.make} {self.model}\")\n",
        "\n",
        "my_car = Car(\"Toyota\", \"Camry\")\n",
        "print(my_car.make)  # Accessible from outside the class\n",
        "my_car.display_info()  # Public method is accessible\n"
      ],
      "metadata": {
        "id": "5A4taLNKdIDL",
        "colab": {
          "base_uri": "https://localhost:8080/"
        },
        "outputId": "6b15b25f-b8a4-418e-ad46-b95ba5e2eeab"
      },
      "execution_count": null,
      "outputs": [
        {
          "output_type": "stream",
          "name": "stdout",
          "text": [
            "Toyota\n",
            "Toyota Camry\n"
          ]
        }
      ]
    },
    {
      "cell_type": "markdown",
      "source": [
        "### 3. *Private*:\n",
        "- *Definition*: Attributes and methods that are intended to be accessed only within the class itself and not from outside or by subclasses. Python performs name mangling to make private attributes harder to access from outside the class.\n",
        "- *Denotation: Private members are denoted with a **double leading underscore* (__).\n",
        "\n"
      ],
      "metadata": {
        "id": "19hYonFjeOHJ"
      }
    },
    {
      "cell_type": "code",
      "source": [
        "class Car:\n",
        "    def __init__(self, make, model):\n",
        "        self.__make = make\n",
        "        self.__model = model\n",
        "\n",
        "    def __display_info(self):\n",
        "        print(f\"{self.__make} {self.__model}\")\n",
        "    def show_info(self):\n",
        "        self.__display_info()\n",
        "\n",
        "My_car = Car(\"Toyota\", \"Camry\")\n",
        "\n",
        "My_car.show_info()"
      ],
      "metadata": {
        "colab": {
          "base_uri": "https://localhost:8080/"
        },
        "id": "U-zRdiOjdLTG",
        "outputId": "183f709e-e494-4e9b-a770-d45a51cf87d6"
      },
      "execution_count": null,
      "outputs": [
        {
          "output_type": "stream",
          "name": "stdout",
          "text": [
            "Toyota Camry\n"
          ]
        }
      ]
    },
    {
      "cell_type": "markdown",
      "source": [
        "6.Describe the five types of inheritance in Python. Provide a simple example of multiple inheritance."
      ],
      "metadata": {
        "id": "XaGKn_3seWSa"
      }
    },
    {
      "cell_type": "markdown",
      "source": [
        "Ans.In Python, inheritance allows a class to acquire properties and methods from another class. There are five types of inheritance:\n",
        "- 1. Single Inheritance:\n",
        "- 2. Multiple Inheritance:\n",
        "- 3. Multilevel Inheritance:\n",
        "- 4. Hierarchical Inheritance:\n",
        "- 5. Hybrid Inheritance\n",
        "\n",
        "-1. Single Inheritance:A class inherits from one parent class.\n",
        "\n"
      ],
      "metadata": {
        "id": "mbRZWvUTfLx1"
      }
    },
    {
      "cell_type": "code",
      "source": [
        "class Parent:\n",
        "    def speak(self):\n",
        "        print(\"Parent speaking\")\n",
        "\n",
        "class Child(Parent):\n",
        "    def play(self):\n",
        "        print(\"Child playing\")\n",
        "\n",
        "c = Child()\n",
        "c.speak()\n",
        "c.play()\n"
      ],
      "metadata": {
        "id": "PJBlpD5xfETU",
        "colab": {
          "base_uri": "https://localhost:8080/"
        },
        "outputId": "a55d915d-cf87-4f7d-f8d1-b6d393a5c416"
      },
      "execution_count": null,
      "outputs": [
        {
          "output_type": "stream",
          "name": "stdout",
          "text": [
            "Parent speaking\n",
            "Child playing\n"
          ]
        }
      ]
    },
    {
      "cell_type": "markdown",
      "source": [
        "2. *Multiple Inheritance*:\n",
        "-\tA class inherits from more than one parent class. The derived class has access to the properties and methods of all the parent classes.\n"
      ],
      "metadata": {
        "id": "bdpvDiW3wre3"
      }
    },
    {
      "cell_type": "code",
      "source": [
        "class Father:\n",
        "    def drive(self):\n",
        "        print(\"Father driving\")\n",
        "\n",
        "class Mother:\n",
        "    def cook(self):\n",
        "        print(\"Mother cooking\")\n",
        "\n",
        "class Child(Father, Mother):\n",
        "    def study(self):\n",
        "        print(\"Child studying\")\n",
        "\n",
        "c = Child()\n",
        "c.drive()\n",
        "c.cook()\n",
        "c.study()\n"
      ],
      "metadata": {
        "colab": {
          "base_uri": "https://localhost:8080/"
        },
        "id": "KJSu4CpVwjgO",
        "outputId": "2f40a848-fc25-479e-feca-1ea3456423d1"
      },
      "execution_count": null,
      "outputs": [
        {
          "output_type": "stream",
          "name": "stdout",
          "text": [
            "Father driving\n",
            "Mother cooking\n",
            "Child studying\n"
          ]
        }
      ]
    },
    {
      "cell_type": "markdown",
      "source": [
        "3. Multilevel Inheritance:\n",
        "-\tA class inherits from a parent class, and another class inherits from that derived class. This forms a chain of inheritance.\n"
      ],
      "metadata": {
        "id": "vtldordJxoG2"
      }
    },
    {
      "cell_type": "code",
      "source": [
        "class Grandparent:\n",
        "    def talk(self):\n",
        "        print(\"Grandparent talking\")\n",
        "\n",
        "class Parent(Grandparent):\n",
        "    def walk(self):\n",
        "        print(\"Parent walking\")\n",
        "\n",
        "class Child(Parent):\n",
        "    def play(self):\n",
        "        print(\"Child playing\")\n",
        "\n",
        "c = Child()\n",
        "c.talk()\n",
        "c.walk()\n",
        "c.play()\n"
      ],
      "metadata": {
        "colab": {
          "base_uri": "https://localhost:8080/"
        },
        "id": "7fN3-fC2xH0Y",
        "outputId": "9631deff-6b70-4532-b4fd-72f736886c0c"
      },
      "execution_count": null,
      "outputs": [
        {
          "output_type": "stream",
          "name": "stdout",
          "text": [
            "Grandparent talking\n",
            "Parent walking\n",
            "Child playing\n"
          ]
        }
      ]
    },
    {
      "cell_type": "markdown",
      "source": [
        " 4. Hierarchical Inheritance:\n",
        "-\tMultiple derived classes inherit from the same base class.\n",
        "  "
      ],
      "metadata": {
        "id": "Fi5iCGLZxtrl"
      }
    },
    {
      "cell_type": "code",
      "source": [
        "class Animal:\n",
        "    def eat(self):\n",
        "        print(\"Animal eating\")\n",
        "\n",
        "class Dog(Animal):\n",
        "    def bark(self):\n",
        "        print(\"Dog barking\")\n",
        "\n",
        "class Cat(Animal):\n",
        "    def meow(self):\n",
        "        print(\"Cat meowing\")\n",
        "\n",
        "d = Dog()\n",
        "d.eat()\n",
        "d.bark()\n",
        "\n",
        "c = Cat()\n",
        "c.eat()\n",
        "c.meow()"
      ],
      "metadata": {
        "colab": {
          "base_uri": "https://localhost:8080/"
        },
        "id": "hHo9R0Wyx0ey",
        "outputId": "5b7c828a-2c6b-4703-f1b0-13df27798126"
      },
      "execution_count": null,
      "outputs": [
        {
          "output_type": "stream",
          "name": "stdout",
          "text": [
            "Animal eating\n",
            "Dog barking\n",
            "Animal eating\n",
            "Cat meowing\n"
          ]
        }
      ]
    },
    {
      "cell_type": "markdown",
      "source": [
        "\n",
        "5. Hybrid Inheritance**:\n",
        "-\tA combination of more than one type of inheritance, typically a mix of hierarchical and multiple inheritance.\n"
      ],
      "metadata": {
        "id": "3om91LLRx1sO"
      }
    },
    {
      "cell_type": "code",
      "source": [
        "class Base:\n",
        "    def base_method(self):\n",
        "        print(\"Base method\")\n",
        "\n",
        "class A(Base):\n",
        "    def method_a(self):\n",
        "        print(\"Method A\")\n",
        "\n",
        "class B(Base):\n",
        "    def method_b(self):\n",
        "        print(\"Method B\")\n",
        "\n",
        "class C(A, B):\n",
        "    def method_c(self):\n",
        "        print(\"Method C\")\n",
        "\n",
        "c = C()\n",
        "c.base_method()\n",
        "c.method_a()\n",
        "c.method_b()\n",
        "c.method_c()\n"
      ],
      "metadata": {
        "colab": {
          "base_uri": "https://localhost:8080/"
        },
        "id": "qvn43P3zx86C",
        "outputId": "98facdce-c4a1-4c9d-a6cf-bf7e2a33bd01"
      },
      "execution_count": null,
      "outputs": [
        {
          "output_type": "stream",
          "name": "stdout",
          "text": [
            "Base method\n",
            "Method A\n",
            "Method B\n",
            "Method C\n"
          ]
        }
      ]
    },
    {
      "cell_type": "markdown",
      "source": [
        "7.What is the Method Resolution Order (MRO) in Python? How can you retrieve it programmatically?"
      ],
      "metadata": {
        "id": "N92AvWr4ym_F"
      }
    },
    {
      "cell_type": "markdown",
      "source": [
        "- *How MRO Works*:\n",
        "-Python first checks if the method/attribute is in the current class.\n",
        "-If it is not found, Python searches in the parent classes based on the MRO.\n",
        "-The search order is from left to right, following the inheritance list, and moves up the class hierarchy according to the MRO.\n",
        "\n",
        "- *How to Retrieve the MRO Programmatically?*\n",
        "\n",
        "You can retrieve the MRO of a class using the following methods:\n",
        "\n",
        "- Using __mro__\n",
        "The __mro__ attribute is a tuple that contains the classes in the MRO, starting from the class itself and ending with the base object class.\n",
        "\n"
      ],
      "metadata": {
        "id": "vXP0asqsyuMl"
      }
    },
    {
      "cell_type": "markdown",
      "source": [],
      "metadata": {
        "id": "NnGWxCCSzGcW"
      }
    },
    {
      "cell_type": "code",
      "source": [
        "class A:\n",
        "    pass\n",
        "\n",
        "class B(A):\n",
        "    pass\n",
        "\n",
        "class C(A):\n",
        "    pass\n",
        "\n",
        "class D(B, C):\n",
        "    pass\n",
        "\n",
        "# Retrieve the MRO\n",
        "print(D.__mro__)"
      ],
      "metadata": {
        "colab": {
          "base_uri": "https://localhost:8080/"
        },
        "id": "cAk8_lU1yUIp",
        "outputId": "031d120c-15d6-4f4b-ab91-d7a3d8d2609a"
      },
      "execution_count": null,
      "outputs": [
        {
          "output_type": "stream",
          "name": "stdout",
          "text": [
            "(<class '__main__.D'>, <class '__main__.B'>, <class '__main__.C'>, <class '__main__.A'>, <class 'object'>)\n"
          ]
        }
      ]
    },
    {
      "cell_type": "markdown",
      "source": [
        "- Using mro()\n",
        "The mro() method returns a list of classes in the MRO. This is a more dynamic approach compared to directly accessing __mro__.\n",
        "\n"
      ],
      "metadata": {
        "id": "KFvDCFwMzUc_"
      }
    },
    {
      "cell_type": "code",
      "source": [
        "class A:\n",
        "    pass\n",
        "\n",
        "class B(A):\n",
        "    pass\n",
        "\n",
        "class C(A):\n",
        "    pass\n",
        "\n",
        "class D(B, C):\n",
        "    pass\n",
        "\n",
        "# Retrieve the MRO\n",
        "print(D.mro())"
      ],
      "metadata": {
        "colab": {
          "base_uri": "https://localhost:8080/"
        },
        "id": "L3tPgUonzQD5",
        "outputId": "2a4ada69-6092-420e-a81b-0dab2f714c5d"
      },
      "execution_count": null,
      "outputs": [
        {
          "output_type": "stream",
          "name": "stdout",
          "text": [
            "[<class '__main__.D'>, <class '__main__.B'>, <class '__main__.C'>, <class '__main__.A'>, <class 'object'>]\n"
          ]
        }
      ]
    },
    {
      "cell_type": "markdown",
      "source": [
        "8.Create an abstract base class Shape with an abstract method area(). Then create two subclasses Circle` and Rectangle that implement the area() method."
      ],
      "metadata": {
        "id": "TpqBW9ngzd22"
      }
    },
    {
      "cell_type": "markdown",
      "source": [
        "Ans.In Python, you can define an *abstract base class (ABC)* using the abc module. An abstract class is a class that cannot be instantiated and contains one or more abstract methods. Subclasses of an abstract class must implement the abstract methods to be instantiated."
      ],
      "metadata": {
        "id": "crmFCH2vz2-O"
      }
    },
    {
      "cell_type": "code",
      "source": [
        "from abc import ABC, abstractmethod\n",
        "import math\n",
        "\n",
        "\n",
        "class Shape(ABC):\n",
        "    @abstractmethod\n",
        "    def area(self):\n",
        "        pass\n",
        "\n",
        "\n",
        "class circle(Shape):\n",
        "    def __init__(self, radius):\n",
        "        self.radius = radius\n",
        "\n",
        "    def area(self):\n",
        "        return math.pi * self.radius ** 2\n",
        "\n",
        "\n",
        "class rectangle(Shape):\n",
        "    def __init__(self, width, height):\n",
        "        self.width = width\n",
        "        self.height = height\n",
        "\n",
        "    def area(self):\n",
        "        return self.width * self.height\n",
        "\n",
        "# Usage example\n",
        "circle = circle(5)\n",
        "rectangle = rectangle(4, 6)\n",
        "\n",
        "print(f\"Circle area: {circle.area():.2f}\")\n",
        "print(f\"Rectangle area: {rectangle.area()}\")"
      ],
      "metadata": {
        "colab": {
          "base_uri": "https://localhost:8080/"
        },
        "id": "saJnQpeOz5d3",
        "outputId": "a2de333b-d9cc-4142-8dde-2814ccb2d29d"
      },
      "execution_count": null,
      "outputs": [
        {
          "output_type": "stream",
          "name": "stdout",
          "text": [
            "Circle area: 78.54\n",
            "Rectangle area: 24\n"
          ]
        }
      ]
    },
    {
      "cell_type": "markdown",
      "source": [
        "9.Demonstrate polymorphism by creating a function that can work with different shape objects to calculate And print their areas"
      ],
      "metadata": {
        "id": "rJ2EmCJ80AqE"
      }
    },
    {
      "cell_type": "markdown",
      "source": [
        "Ans.Polymorphism allows a function to work with different objects in a way that is independent of their class. In this case, we can create a function that takes a shape object (either a Circle, Rectangle, or any other shape) and calls the area() method on it without needing to know the specific type of shape."
      ],
      "metadata": {
        "id": "xJE8fJF_0Ene"
      }
    },
    {
      "cell_type": "code",
      "source": [
        "from abc import ABC, abstractmethod\n",
        "import math\n",
        "\n",
        "class circle(Shape):\n",
        "    def __init__(self, radius):\n",
        "        self.radius = radius\n",
        "\n",
        "    def area(self):\n",
        "        return math.pi * self.radius ** 2\n",
        "\n",
        "class rectangle(Shape):\n",
        "    def __init__(self, width, height):\n",
        "        self.width = width\n",
        "        self.height = height\n",
        "\n",
        "    def area(self):\n",
        "        return self.width * self.height\n",
        "\n",
        "class triangle(Shape):\n",
        "    def __init__(self, base, height):\n",
        "        self.base = base\n",
        "        self.height = height\n",
        "\n",
        "    def area(self):\n",
        "        return 0.5 * self.base * self.height\n",
        "\n",
        "def print_area(shape: Shape):\n",
        "    print(f\"The area of the shape is: {shape.area()}\")\n",
        "\n",
        "\n",
        "circle = circle(5)\n",
        "rectangle = rectangle(4, 6)\n",
        "triangle = triangle(3, 5)\n",
        "\n",
        "\n",
        "print_area(circle)\n",
        "print_area(rectangle)\n",
        "print_area(triangle)"
      ],
      "metadata": {
        "colab": {
          "base_uri": "https://localhost:8080/"
        },
        "id": "-IZOvX9G0GEM",
        "outputId": "c4ee51cd-4395-4137-916d-080ce10bb6e9"
      },
      "execution_count": null,
      "outputs": [
        {
          "output_type": "stream",
          "name": "stdout",
          "text": [
            "The area of the shape is: 78.53981633974483\n",
            "The area of the shape is: 24\n",
            "The area of the shape is: 7.5\n"
          ]
        }
      ]
    },
    {
      "cell_type": "markdown",
      "source": [
        "10.Implement encapsulation in a BankAccount class with private attributes for balance and\n",
        "account_number. Include methods for deposit, withdrawal, and balance inquiry.\n"
      ],
      "metadata": {
        "id": "q1oFvJzh2aaK"
      }
    },
    {
      "cell_type": "markdown",
      "source": [
        "Ans.Encapsulation in Python is implemented by using private attributes, which are typically denoted with a double underscore __. These private attributes cannot be accessed directly from outside the class but can be accessed and modified through public methods."
      ],
      "metadata": {
        "id": "Q5rXS0yS2jgz"
      }
    },
    {
      "cell_type": "code",
      "source": [
        "class BankAccount:\n",
        "    def __init__(self, account_number, initial_balance=0):\n",
        "\n",
        "        self.__account_number = account_number\n",
        "        self.__balance = initial_balance\n",
        "\n",
        "    def deposit(self, amount):\n",
        "        \"\"\"Method to deposit money into the account.\"\"\"\n",
        "        if amount > 0:\n",
        "            self.__balance += amount\n",
        "            print(f\"Deposited ${amount}. New balance is ${self.__balance}.\")\n",
        "        else:\n",
        "            print(\"Deposit amount must be positive.\")\n",
        "\n",
        "    def withdraw(self, amount):\n",
        "        \"\"\"Method to withdraw money from the account.\"\"\"\n",
        "        if amount > 0:\n",
        "            if amount <= self.__balance:\n",
        "                self.__balance -= amount\n",
        "                print(f\"Withdrew ${amount}. New balance is ${self.__balance}.\")\n",
        "            else:\n",
        "                print(\"Insufficient funds.\")\n",
        "        else:\n",
        "            print(\"Withdrawal amount must be positive.\")\n",
        "\n",
        "    def get_balance(self):\n",
        "        \"\"\"Method to get the current balance.\"\"\"\n",
        "        return self.__balance\n",
        "\n",
        "    def get_account_number(self):\n",
        "        \"\"\"Method to get the account number.\"\"\"\n",
        "        return self.__account_number\n",
        "\n",
        "\n",
        "account = BankAccount(account_number=\"123456789\", initial_balance=1000)\n",
        "\n",
        "\n",
        "account.deposit(500)\n",
        "\n",
        "\n",
        "account.withdraw(200)\n",
        "\n",
        "print(f\"Current balance: ${account.get_balance()}\")\n",
        "\n",
        "print(f\"Account number: {account.get_account_number()}\")\n",
        "account.withdraw(1500)\n",
        "\n",
        "\n",
        "account.deposit(-50)\n",
        "\n"
      ],
      "metadata": {
        "colab": {
          "base_uri": "https://localhost:8080/"
        },
        "id": "wFQnmtEO1Q-x",
        "outputId": "48d578cd-43c6-40e6-d860-92918200d6e8"
      },
      "execution_count": null,
      "outputs": [
        {
          "output_type": "stream",
          "name": "stdout",
          "text": [
            "Deposited $500. New balance is $1500.\n",
            "Withdrew $200. New balance is $1300.\n",
            "Current balance: rs1300\n",
            "Account number: 123456789\n",
            "Insufficient funds.\n",
            "Deposit amount must be positive.\n"
          ]
        }
      ]
    },
    {
      "cell_type": "markdown",
      "source": [
        "11.Write a class that overrides the`_str_` and __add__ magic methods. What will these methods allow You to do?"
      ],
      "metadata": {
        "id": "1ZNosbug2kDk"
      }
    },
    {
      "cell_type": "markdown",
      "source": [
        "Ans:In Python, magic methods (also known as dunder methods, short for \"double underscore\") allow you to define how objects of a class behave with standard operations and functions. Two common magic methods are __str__ and __add__.\n",
        "\n",
        "- __str__: This method is used to define a human-readable string representation of an object. It is called by the str() function and when you use print() on an instance of the class.\n",
        "\n",
        "- __add__: This method allows you to define the behavior of the addition operator (+) for objects of the class. It is called when you use the + operator with instances of the class."
      ],
      "metadata": {
        "id": "vcVHbZJO3fnW"
      }
    },
    {
      "cell_type": "code",
      "source": [
        "class Vector:\n",
        "    def __init__(self, x, y):\n",
        "        self.x = x\n",
        "        self.y = y\n",
        "\n",
        "    def __str__(self):\n",
        "        \"\"\"Return a string representation of the vector.\"\"\"\n",
        "        return f\"Vector({self.x}, {self.y})\"\n",
        "\n",
        "    def __add__(self, other):\n",
        "        \"\"\"Return the result of adding two vectors.\"\"\"\n",
        "        if isinstance(other, Vector):\n",
        "            return Vector(self.x + other.x, self.y + other.y)\n",
        "        return NotImplemented\n",
        "\n",
        "# Example usage\n",
        "v1 = Vector(2, 3)\n",
        "v2 = Vector(4, 5)\n",
        "\n",
        "\n",
        "print(v1)\n",
        "\n",
        "\n",
        "v3 = v1 + v2\n",
        "print(v3)\n"
      ],
      "metadata": {
        "colab": {
          "base_uri": "https://localhost:8080/"
        },
        "id": "_me-oR763ejf",
        "outputId": "0b4a0f18-4a11-4d22-e171-ee6f39781c7e"
      },
      "execution_count": null,
      "outputs": [
        {
          "output_type": "stream",
          "name": "stdout",
          "text": [
            "Vector(2, 3)\n",
            "Vector(6, 8)\n"
          ]
        }
      ]
    },
    {
      "cell_type": "markdown",
      "source": [
        "12. Create a decorator that measures and prints the execution time of a function."
      ],
      "metadata": {
        "id": "8V0RlgIYj8aU"
      }
    },
    {
      "cell_type": "code",
      "source": [
        "import time\n",
        "def measure_time(func):\n",
        "    def wrapper(*args, **kwargs):\n",
        "        start_time = time.time()  # Record the start time\n",
        "        result = func(*args, **kwargs)  # Execute the function\n",
        "        end_time = time.time()  # Record the end time\n",
        "        execution_time = end_time - start_time  # Calculate the execution time\n",
        "        print(f\"Execution time of {func.__name__}: {execution_time:.6f} seconds\")\n",
        "        return result\n",
        "    return wrapper\n",
        "\n",
        "# Example usage\n",
        "@measure_time\n",
        "def example_function():\n",
        "    time.sleep(1)  # Simulating a task by pausing for 1 second\n",
        "    print(\"Function is done!\")\n",
        "\n",
        "# Call the function\n",
        "example_function()"
      ],
      "metadata": {
        "colab": {
          "base_uri": "https://localhost:8080/"
        },
        "id": "e-y2N-7VhXDl",
        "outputId": "df59e102-f671-4f31-ac33-e8c09434fc10"
      },
      "execution_count": 14,
      "outputs": [
        {
          "output_type": "stream",
          "name": "stdout",
          "text": [
            "Function is done!\n",
            "Execution time of example_function: 1.002849 seconds\n"
          ]
        }
      ]
    },
    {
      "cell_type": "markdown",
      "source": [
        "13. Explain the concept of the Diamond Problem in multiple inheritance. How does Python resolve it?\n",
        "\n",
        "*The Diamond Problem in Multiple Inheritance*\n",
        "\n",
        "The *Diamond Problem* occurs in languages that allow *multiple inheritance*, where a class inherits from two or more classes that have a common ancestor. The problem arises when a class inherits from two classes that both inherit from the same base class, forming a diamond shape in the class hierarchy. The issue is: when you call a method from the base class, which path should be taken to resolve that method?\n",
        "\n",
        "Here’s a visual representation of the diamond problem:\n",
        "\n",
        "\n",
        "      A\n",
        "     / \\\n",
        "    B   C\n",
        "     \\ /\n",
        "      D\n",
        "\n",
        "\n",
        "- *A* is the base class.\n",
        "- *B* and *C* are subclasses of *A*.\n",
        "- *D* inherits from both *B* and *C*.\n",
        "\n",
        "If class *D* tries to call a method from *A, which version of **A’s* method should be called? Should it come through *B* or *C? This ambiguity is known as the **Diamond Problem*.\n",
        "\n",
        "### *How Python Resolves the Diamond Problem*\n",
        "\n",
        "Python uses the *Method Resolution Order (MRO)* to solve the diamond problem. The MRO defines the order in which methods are searched for in a class hierarchy when a method is called. It ensures that the method is called only once, following a specific order based on the *C3 linearization algorithm*.\n",
        "\n",
        "The MRO ensures:\n",
        "1. *Each class is visited once*.\n",
        "2. *Parents are visited before children*, ensuring the proper inheritance chain.\n",
        "3. *Left-to-right order* is respected when dealing with multiple base classes.\n",
        "\n",
        "### Example of Diamond Problem in Python:\n",
        "\n",
        "```python\n",
        "Class A:\n",
        "    Def method(self):\n",
        "        Print(“Method in A”)\n",
        "\n",
        "Class B(A):\n",
        "    Def method(self):\n",
        "        Print(“Method in B”)\n",
        "\n",
        "Class C(A):\n",
        "    Def method(self):\n",
        "        Print(“Method in C”)\n",
        "\n",
        "Class D(B, C):\n",
        "    Pass\n",
        "# Creating an instance of D and calling method()\n",
        "D = D()\n",
        "d.method()\n",
        "\n",
        "# Checking the Method Resolution Order (MRO)\n",
        "Print(D.mro())"
      ],
      "metadata": {
        "id": "ihE1e-2xkMl7"
      }
    },
    {
      "cell_type": "code",
      "source": [
        "#14. Write a class method that keeps track of the number of instances created from a class.\n",
        "class InstanceCounter:\n",
        "    # Class variable to track the number of instances\n",
        "    instance_count = 0\n",
        "\n",
        "    def __init__(self): # Fixed the typo here\n",
        "        # Increment the instance count each time a new object is created\n",
        "        InstanceCounter.instance_count += 1\n",
        "\n",
        "    # Class method to get the current instance count\n",
        "    @classmethod # Corrected indentation\n",
        "    def get_instance_count(cls): # Corrected indentation\n",
        "        return cls.instance_count\n",
        "\n",
        "# Creating multiple instances\n",
        "Obj1 = InstanceCounter()\n",
        "Obj2 = InstanceCounter()\n",
        "Obj3 = InstanceCounter()\n",
        "# Using the class method to get the number of instances created\n",
        "print(f\"Number of instances created: {InstanceCounter.get_instance_count()}\")"
      ],
      "metadata": {
        "colab": {
          "base_uri": "https://localhost:8080/"
        },
        "id": "XeLV319jmRZ3",
        "outputId": "c9739748-0c78-4946-ecbd-f8aa143b620d"
      },
      "execution_count": 31,
      "outputs": [
        {
          "output_type": "stream",
          "name": "stdout",
          "text": [
            "Number of instances created: 3\n"
          ]
        }
      ]
    },
    {
      "cell_type": "code",
      "source": [
        "#15. Implement a static method in a class that checks if a given year is a leap year."
      ],
      "metadata": {
        "id": "EJNLpNPGlPHj"
      },
      "execution_count": null,
      "outputs": []
    },
    {
      "cell_type": "code",
      "source": [
        "class DateUtility:\n",
        "   @staticmethod\n",
        "   def is_leap_year(year):\n",
        "        if (year % 4 == 0 and year % 100 != 0) or (year % 400 == 0):\n",
        "            return True\n",
        "        else:\n",
        "            return False\n",
        "\n",
        "print(DateUtility.is_leap_year(2024))  # True, because 2024 is a leap year\n",
        "print(DateUtility.is_leap_year(2023))  # False, because 2023 is not a leap year"
      ],
      "metadata": {
        "colab": {
          "base_uri": "https://localhost:8080/"
        },
        "id": "wKf_uqOrlTcm",
        "outputId": "494dd295-6c31-4a9f-f6ef-55ee1cad4743"
      },
      "execution_count": 22,
      "outputs": [
        {
          "output_type": "stream",
          "name": "stdout",
          "text": [
            "True\n",
            "False\n"
          ]
        }
      ]
    }
  ]
}